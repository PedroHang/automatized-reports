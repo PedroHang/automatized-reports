{
 "cells": [
  {
   "cell_type": "code",
   "execution_count": 181,
   "id": "cf3a61f5-f118-4d52-875e-cfb2b969fa2f",
   "metadata": {},
   "outputs": [],
   "source": [
    "import numpy as np\n",
    "import pandas as pd\n",
    "import seaborn as sns\n",
    "import matplotlib.pyplot as plt\n",
    "\n",
    "sns.set_theme()  "
   ]
  },
  {
   "cell_type": "markdown",
   "id": "bf412292-7b6a-4c67-9bfc-43f021f87559",
   "metadata": {},
   "source": [
    "<h3 style=\"color:green\">This piece of code is meant to automatize the creation of reports that are essentially the same every month, parts of the code are in PT-BR due to the language of the dataset, which is portuguese. Here we are working with data from SUS (Brazil's public healthcare system) regarding baby births from the state of Roraima in 2019.</h3>"
   ]
  },
  {
   "cell_type": "code",
   "execution_count": 180,
   "id": "50f350db-be0c-470a-b03a-3a79fd3b3a22",
   "metadata": {},
   "outputs": [
    {
     "name": "stdout",
     "output_type": "stream",
     "text": [
      "Date: 2019-03, Shape: (6844, 11)\n",
      "Date: 2019-04, Shape: (9217, 11)\n",
      "Date: 2019-05, Shape: (11582, 11)\n",
      "Date: 2019-06, Shape: (13758, 11)\n",
      "Date: 2019-12, Shape: (27028, 11)\n"
     ]
    }
   ],
   "source": [
    "import os\n",
    "import pandas as pd\n",
    "import matplotlib.pyplot as plt\n",
    "\n",
    "def read_months(meses: list, sinasc_list: list = None) -> list:\n",
    "    if sinasc_list is None:\n",
    "        sinasc_list = []\n",
    "    \n",
    "    for mes in meses:\n",
    "        file_path = f'./input/SINASC_RO_2019_{mes}.csv'\n",
    "        try:\n",
    "            df = pd.read_csv(file_path)\n",
    "            sinasc_list.append(df)\n",
    "        except FileNotFoundError:\n",
    "            print(f'File {file_path} not found.')\n",
    "\n",
    "    return sinasc_list\n",
    "\n",
    "months = ['MAR', 'ABR', 'MAI', 'JUN', 'DEZ']\n",
    "\n",
    "df_list = read_months(months)\n",
    "\n",
    "def plot_pivot_table(df, value, index, func, ylabel, xlabel, opcao='nada'):\n",
    "    pivot_table = pd.pivot_table(df, values=value, index=index, aggfunc=func)\n",
    "    \n",
    "    if opcao == 'sort':\n",
    "        pivot_table = pivot_table.sort_values(by=value)\n",
    "    elif opcao == 'unstack':\n",
    "        pivot_table = pivot_table.unstack()\n",
    "\n",
    "    pivot_table.plot(figsize=[15, 5])\n",
    "    plt.ylabel(ylabel)\n",
    "    plt.xlabel(xlabel)\n",
    "    plt.title(f'{ylabel} vs {xlabel}')\n",
    "    plt.grid(True)\n",
    "    plt.legend(title=value)\n",
    "    return None\n",
    "\n",
    "plt.close('all')\n",
    "\n",
    "def list_dtnasc_months(dtnasc_list: list = None) -> list:\n",
    "    if dtnasc_list is None:\n",
    "        dtnasc_list = []\n",
    "\n",
    "    for df in df_list:\n",
    "        dtnasc_list.append(df.DTNASC.max()[:7])\n",
    "    return dtnasc_list\n",
    "\n",
    "def savefile(df_list, dtnasc_list: list = list_dtnasc_months()):\n",
    "    for dtnasc, df in zip(dtnasc_list, df_list):\n",
    "        print(f'Date: {dtnasc}, Shape: {df.shape}')\n",
    "        os.makedirs('./output/figs/' + dtnasc, exist_ok=True)\n",
    "        plot_pivot_table(df, 'IDADEMAE', 'DTNASC', 'mean', 'quantidade de nascimento', 'data de nascimento')\n",
    "        plt.savefig('./output/figs/' + dtnasc + '/media quantidade de nascimentos por data.png')\n",
    "        plt.close() \n",
    "\n",
    "df_list = read_months(meses)\n",
    "savefile(df_list)"
   ]
  },
  {
   "cell_type": "code",
   "execution_count": null,
   "id": "d6cc84d4-8ea2-45fd-b30b-79ecea2712bb",
   "metadata": {},
   "outputs": [],
   "source": []
  }
 ],
 "metadata": {
  "kernelspec": {
   "display_name": "Python 3 (ipykernel)",
   "language": "python",
   "name": "python3"
  },
  "language_info": {
   "codemirror_mode": {
    "name": "ipython",
    "version": 3
   },
   "file_extension": ".py",
   "mimetype": "text/x-python",
   "name": "python",
   "nbconvert_exporter": "python",
   "pygments_lexer": "ipython3",
   "version": "3.11.7"
  }
 },
 "nbformat": 4,
 "nbformat_minor": 5
}
